{
 "cells": [
  {
   "cell_type": "markdown",
   "metadata": {},
   "source": [
    "# Basic Types\n",
    "\n",
    "Remember when we said a variable has three things?  A variable has a name, a type, and a value. It's time to talk about types!\n",
    "\n",
    "Types are important because they tell the computer what operations/actions can be performed on the value of a variable.\n",
    "\n",
    "Let's cover some basic types in Python.  The chart that follows lists all of the different data types in Python.\n",
    "\n",
    "| Type\t| Description | Example |\n",
    "|-------|-------------|---------|\n",
    "| integer | A whole number.  It can be positive, negative, or zero. | `-55545` or  `0` or `5` |\n",
    "| float | A decimal number. It can be positive, negative, or zero WITH a decimal component.| `3.2` or `0.0` or `4.5652` |\n",
    "| char | A single character or punctuation. | `'z'` or `'1'` or `' '` or `'.'` |\n",
    "| string | Contains zero or more characters. Denoted by surrounding quotation marks. | `\"Hello, world!\"` |\n",
    "| Boolean | Either true or false.  (Also 0 is equivalent to false and 1 is equivalent to true.) | `True` or `False` |\n",
    "\n",
    "Python type of a variable is determined by the value of that variable.\n",
    "\n",
    "[Source: CodeHS, Intro to Python Textbook, 1.3](https://codehs.com/textbook/intropython_textbook/1.3)"
   ]
  },
  {
   "cell_type": "code",
   "execution_count": null,
   "metadata": {},
   "outputs": [],
   "source": [
    "# Let's create some variables!\n",
    "\n",
    "my_integer = 5\n",
    "my_float = 3.14\n",
    "my_char = 'a'\n",
    "my_string = \"abcd\"\n",
    "my_boolean = True\n",
    "\n",
    "print(my_integer)\n",
    "print(my_float)\n",
    "print(my_char)\n",
    "print(my_string)\n",
    "print(my_boolean)"
   ]
  },
  {
   "cell_type": "markdown",
   "metadata": {},
   "source": [
    "To see what the computer thinks the type of a variable is, use the `type` function."
   ]
  },
  {
   "cell_type": "code",
   "execution_count": null,
   "metadata": {},
   "outputs": [],
   "source": [
    "# Note to instructor.  Cell output types the value of the last 'type' call.   \n",
    "type(1)"
   ]
  },
  {
   "cell_type": "code",
   "execution_count": null,
   "metadata": {},
   "outputs": [],
   "source": [
    "type(1.0)"
   ]
  },
  {
   "cell_type": "code",
   "execution_count": null,
   "metadata": {},
   "outputs": [],
   "source": [
    "type(\"a\")"
   ]
  },
  {
   "cell_type": "code",
   "execution_count": null,
   "metadata": {},
   "outputs": [],
   "source": [
    "type('a')"
   ]
  },
  {
   "cell_type": "markdown",
   "metadata": {},
   "source": [
    "Did you notice the type was the same for the string with single and double quotation marks?  We'll talk about when to use single and when to use double quotation marks later."
   ]
  },
  {
   "cell_type": "code",
   "execution_count": null,
   "metadata": {},
   "outputs": [],
   "source": [
    "#summary\n",
    "\n",
    "my_integer = 5\n",
    "my_float = 3.14\n",
    "my_char = 'a'\n",
    "my_string = \"abcd\"\n",
    "my_boolean = True\n",
    "\n",
    "print(type(my_integer))\n",
    "print(type(my_float))\n",
    "print(type(my_char))\n",
    "print(type(my_string))\n",
    "print(type(my_boolean))"
   ]
  },
  {
   "cell_type": "markdown",
   "metadata": {},
   "source": [
    "We will discuss **type manipulation** in a future lesson.  Type manipulation will allow you to turn an 'int' into a 'float'.  For example, changing `\"3.14\"` into `3.14`"
   ]
  },
  {
   "cell_type": "markdown",
   "metadata": {},
   "source": [
    "## Assignment\n",
    "\n",
    "Create and print a variable of each type.  Variable names should be meaningful (i.e. `number_of_students` no `my_number`)"
   ]
  },
  {
   "cell_type": "code",
   "execution_count": null,
   "metadata": {},
   "outputs": [],
   "source": [
    "#Add code for assignment here."
   ]
  }
 ],
 "metadata": {
  "kernelspec": {
   "display_name": "Python 3",
   "language": "python",
   "name": "python3"
  },
  "language_info": {
   "codemirror_mode": {
    "name": "ipython",
    "version": 3
   },
   "file_extension": ".py",
   "mimetype": "text/x-python",
   "name": "python",
   "nbconvert_exporter": "python",
   "pygments_lexer": "ipython3",
   "version": "3.7.3"
  },
  "orig_nbformat": 4
 },
 "nbformat": 4,
 "nbformat_minor": 2
}
