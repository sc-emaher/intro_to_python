{
 "cells": [
  {
   "cell_type": "markdown",
   "metadata": {},
   "source": [
    "# Variables\n",
    "\n",
    "Today, we are going to learn about variables.  They are an essential part of any programming language and used to store information for later use in the program. \n",
    "\n",
    "There are three parts to a variable:\n",
    "1. Name\n",
    "1. Type\n",
    "1. Value\n",
    " \n",
    "We'll learn about types later.  For now let's focus on creating some variables.\n",
    "\n",
    "[Source: CodeHS, Intro to Python Textbook, 1.3](https://codehs.com/textbook/intropython_textbook/1.3)"
   ]
  },
  {
   "cell_type": "markdown",
   "metadata": {},
   "source": [
    "### How to declare variables\n",
    "\n",
    "Note: Creating a variable is called 'declaring a variable'.  In a Jupyter Notebook (this type of file), once a variable is declared, it can be used later within the same cell and/or later in a different cell."
   ]
  },
  {
   "cell_type": "code",
   "execution_count": null,
   "metadata": {},
   "outputs": [],
   "source": [
    "# Format of declaring a variable is\n",
    "# <variable name> = <value>\n",
    "\n",
    "my_variable = \"Elizabeth\"\n",
    "\n",
    "\n",
    "# IMPORTANT: The equals sign does not mean the same thing as in math.\n",
    "# In programming, it's an assignment operator."
   ]
  },
  {
   "cell_type": "markdown",
   "metadata": {},
   "source": [
    "To see the value of a variables, use the `print` function. It will display the value of any variable specified between the parenthesis on its own line."
   ]
  },
  {
   "cell_type": "code",
   "execution_count": null,
   "metadata": {},
   "outputs": [],
   "source": [
    "print(my_variable)"
   ]
  },
  {
   "cell_type": "markdown",
   "metadata": {},
   "source": [
    "**Python-ism**: Declaring multiple variables in one line.\n",
    "\n",
    "> Python-ism: Python has some unique shortcuts to accomplish certain tasks. Throughout the class, I'll call out any these shortcuts as we go through the class."
   ]
  },
  {
   "cell_type": "code",
   "execution_count": null,
   "metadata": {},
   "outputs": [],
   "source": [
    "first_variable, second_variable, third_variable = \"one\", \"two\", \"three\"\n",
    "\n",
    "print(first_variable)\n",
    "print(second_variable)\n",
    "print(third_variable)"
   ]
  },
  {
   "cell_type": "markdown",
   "metadata": {},
   "source": [
    "### Let's create some variables!"
   ]
  },
  {
   "cell_type": "code",
   "execution_count": null,
   "metadata": {},
   "outputs": [],
   "source": [
    "my_first_name = \"Elizabeth\"\n",
    "my_last_name = \"Maher\"\n",
    "my_age = 50 #Not really, but you get the idea\n",
    "my_title = \"Senior Software Developer\"\n",
    "\n",
    "print(my_first_name)\n",
    "print(my_last_name)\n",
    "print(my_age)\n",
    "print(my_title)"
   ]
  },
  {
   "cell_type": "markdown",
   "metadata": {},
   "source": [
    "You can give a variable a new value using the assignment operator.  You can also assign the value of one variable to another.  "
   ]
  },
  {
   "cell_type": "code",
   "execution_count": null,
   "metadata": {},
   "outputs": [],
   "source": [
    "new_title = \"Principal Software Developer\"\n",
    "my_title = new_title\n",
    "\n",
    "print(my_first_name) # declared above\n",
    "print(my_last_name) #declared above\n",
    "print(my_age) #declared above\n",
    "print(my_title) #declared above, and assign value of new_title variable\n"
   ]
  },
  {
   "cell_type": "markdown",
   "metadata": {},
   "source": [
    "## Naming Variables\n",
    "\n",
    "Think of a variable name like a label for the information it contains.  It needs to be descriptive enough so another person can understand what information the variable is referring to.\n",
    "\n",
    "Before we go any further, let's talk about how to name a variable.  There are several variable naming styles.  Python has it's own conventions and we'll follow those as much as we can in this class.\n",
    "\n",
    "For variables, we'll use snake casing. \n",
    " \n",
    "Use all caps for variables you don't want people changing.\n",
    "\n",
    "[Source: PEP 8](https://peps.python.org/pep-0008/#function-and-variable-names)"
   ]
  },
  {
   "cell_type": "code",
   "execution_count": null,
   "metadata": {},
   "outputs": [],
   "source": [
    "# Good variable names\n",
    "current_city = \"Bellevue\"\n",
    "current_age = 43\n",
    "minimum_age = 18\n",
    "MAX_NUMBER_OF_STUDENTS = 22\n",
    "\n",
    "# Not so great variable names\n",
    "c = \"\"\n",
    "really_long_variable_name_that_is_practically_an_entire_line_long = \"\"\n",
    "my_list = \"\""
   ]
  },
  {
   "cell_type": "markdown",
   "metadata": {},
   "source": [
    "### Watch out!\n",
    "\n",
    "Some variable names are not acceptable!  \n",
    "\n",
    "We can't use reserved words.  (Reserved words are words that have special meaning in a programming language.)  See all [keyword/reserved words](https://docs.python.org/2/reference/lexical_analysis.html?highlight=keywords#keywords)\n",
    "\n",
    "We should also avoid anything that starts with two underscores (`__`).  This is also called a 'dunder', meaning double underscore. \n",
    "\n",
    "An, this should go without saying.  Variable names should not contain offensive terms.\n",
    "\n",
    "```python\n",
    "# Illegal variable names examples\n",
    "#  This will not compile!\n",
    "\n",
    "pass = \"\"\n",
    "```\n",
    "\n",
    "Oh, and did we mention that Python is case-sensitive.  This means the variable `my_variable` is different than `my_Variable`.\n",
    "\n",
    "```python\n",
    "my_variable = \"value\"\n",
    "\n",
    "print(my_variable)\n",
    "print(My_Variable)\n",
    "```\n"
   ]
  },
  {
   "cell_type": "markdown",
   "metadata": {},
   "source": [
    "## No Value?\n",
    "\n",
    "Is there a value when a variable has no value?  Why, yes there is.  It's called `None`.  This is used often in programming when we want to declare a variable that is used later, but aren't ready to assign a value to it."
   ]
  },
  {
   "cell_type": "code",
   "execution_count": null,
   "metadata": {},
   "outputs": [],
   "source": [
    "class_name = None\n",
    "print(class_name)"
   ]
  },
  {
   "cell_type": "markdown",
   "metadata": {},
   "source": [
    "## Assignment\n",
    "\n",
    "Create and print a variables that the name of you're teacher, the name of the class and the number of students in the class.  Variable names should be meaningful (i.e. `number_of_students` no `my_number`)"
   ]
  },
  {
   "cell_type": "code",
   "execution_count": null,
   "metadata": {},
   "outputs": [],
   "source": [
    "# Add code for assignment here."
   ]
  }
 ],
 "metadata": {
  "kernelspec": {
   "display_name": "Python 3",
   "language": "python",
   "name": "python3"
  },
  "language_info": {
   "codemirror_mode": {
    "name": "ipython",
    "version": 3
   },
   "file_extension": ".py",
   "mimetype": "text/x-python",
   "name": "python",
   "nbconvert_exporter": "python",
   "pygments_lexer": "ipython3",
   "version": "3.11.5"
  },
  "orig_nbformat": 4
 },
 "nbformat": 4,
 "nbformat_minor": 2
}
