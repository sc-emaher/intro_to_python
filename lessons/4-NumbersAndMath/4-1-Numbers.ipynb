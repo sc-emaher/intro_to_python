{
 "cells": [
  {
   "cell_type": "markdown",
   "metadata": {},
   "source": [
    "# Numbers\n",
    "\n",
    "Let's do a quick refresher of the two basic number types.\n",
    "\n",
    "```python\n",
    "my_int = 1\n",
    "my_float = 1.0\n",
    "```\n",
    "Note: Boolean can also be represented as a number (0 or 1), but that is not the focus of this lesson.\n",
    "\n",
    "**Python-ism**: Use underscores to group long number"
   ]
  },
  {
   "cell_type": "code",
   "execution_count": null,
   "metadata": {},
   "outputs": [],
   "source": [
    "big_number = 114_000_000_000\n",
    "\n",
    "print(big_number)"
   ]
  }
 ],
 "metadata": {
  "kernelspec": {
   "display_name": "Python 3",
   "language": "python",
   "name": "python3"
  },
  "language_info": {
   "codemirror_mode": {
    "name": "ipython",
    "version": 3
   },
   "file_extension": ".py",
   "mimetype": "text/x-python",
   "name": "python",
   "nbconvert_exporter": "python",
   "pygments_lexer": "ipython3",
   "version": "3.7.3"
  },
  "orig_nbformat": 4
 },
 "nbformat": 4,
 "nbformat_minor": 2
}
