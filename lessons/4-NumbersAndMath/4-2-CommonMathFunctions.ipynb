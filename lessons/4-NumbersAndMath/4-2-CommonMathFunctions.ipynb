{
 "cells": [
  {
   "cell_type": "markdown",
   "metadata": {},
   "source": [
    "# Math Functions\n",
    "\n",
    "## Operators\n",
    "\n",
    "| Name | Operator | Example | Result |\n",
    "|----------|---------|---------|------|\n",
    "| Addition | `+`\t| `1 + 2` | `8` |\n",
    "| Subtraction | `-` | `4 - 2` | `2` |\n",
    "| Multiplication | `*` | `2 * 3` | `6` |\n",
    "| Division | `/` | `5 / 2`| `2.5` |\n",
    "| Exponent | `**` | `3 ** 3` | `9` |\n",
    "| Modulus (aka. mod) | `%` | `5 % 2` | `1` |\n",
    "| Floor | `//` | `5 // 2` | `2` |\n",
    "\n",
    "Notes:\n",
    "- Mod is a common operator used by programmers.  We often are enforcing business rules in the code we write and have to find if there is something left over. When both numbers are positive, a % b is the same as find the remainder of a / b.\n",
    "- Floor is convenient to divide something, but force the return type to be an int.\n",
    "\n",
    "## Operator Precedence\n",
    "\n",
    "Remember PEMDAS?  Yep, its back. Here's a refresher -- Python style.\n",
    "\n",
    "```python\n",
    "()\n",
    "**\n",
    "* / //\n",
    "+ - \n",
    "```\n",
    "\n",
    "We'll expand this list as we add logical operators\n",
    "\n",
    "TIP: When in doubt, add a parenthesis\n",
    "\n",
    "Sources:\n",
    "- [CodeHS, Introduction to Python, Section 1.5](https://codehs.com/textbook/intropython_textbook/1.5)\n",
    "- [W3 Schools, Python Operators](https://www.w3schools.com/python/python_operators.asp)\n",
    "- Python class with [Chris Roberts](https://github.com/coderandhiker)"
   ]
  },
  {
   "cell_type": "code",
   "execution_count": null,
   "metadata": {},
   "outputs": [],
   "source": [
    "# What's the answer going to be?\n",
    "the_answer = (2 ** 2) + (3 - (3**2) - 4) + (4 ** 2)"
   ]
  },
  {
   "cell_type": "code",
   "execution_count": null,
   "metadata": {},
   "outputs": [],
   "source": [
    "print(the_answer)"
   ]
  },
  {
   "cell_type": "markdown",
   "metadata": {},
   "source": [
    "## Math Assignment operators\n",
    "\n",
    "It's pretty common to take a value from a variable, perform an operation and then assign the result to the original variable.\n",
    "\n",
    "For example:\n",
    "```python\n",
    "my_int = my_int * 2\n",
    "```\n",
    "There are assignment operators to make this easier.  In example above, it can be rewritten as\n",
    "```python\n",
    "my_int *= 2\n",
    "```\n",
    "\n",
    "This can be done for all the operators we have discussed today."
   ]
  },
  {
   "cell_type": "markdown",
   "metadata": {},
   "source": [
    "## Further Resources\n",
    "\n",
    "[John Phillip Jones, Python's Arithmetic Operators](https://youtu.be/lqtj8XM0leA?si=43_RrlYE9vTnGSQG)\n",
    "[John Phillip Jones, Python's % Operator](https://youtu.be/ypo2CVtSWkk?si=NZp_TPwcpBCXGYQq)"
   ]
  },
  {
   "cell_type": "markdown",
   "metadata": {},
   "source": [
    "## Assignment 4.2\n",
    "\n",
    "Volume of a square pyramid:\n",
    "- Ask the user for height of the pyramid.\n",
    "- Ask the user for length of one of the sides of the base of the pyramid.\n",
    "- Determine the volume of the pyramid.\n",
    "\n",
    "Remember, the area of a square pyramid is determined by\n",
    "\n",
    "![formula](https://th.bing.com/th/id/R.cc31c42a4a083b68c9fd44f9187a5919?rik=w6eStrTsIc%2fmJA&riu=http%3a%2f%2fwww.wikicalculator.com%2fformula_image%2fVolume-of-square-pyramid-(given-base-edge-and-height)-142.png&ehk=HzK6abHlpKpjYF5busnWPwAHKRtBZLqtcPA6seQehJs%3d&risl=&pid=ImgRaw&r=0)\n",
    "\n",
    "Expected Output:\n",
    "```text\n",
    "What is the length of one side of the base of the pyramid? 3\n",
    "What is the height of the pyramid? 4\n",
    "Volume of the pyramid is 12.0\n",
    "```\n",
    "\n",
    "Hint: [CodeHS, Introduction to Python, Trapezoid](https://codehs.com/textbook/intropython_textbook/1.7#item-4652294)"
   ]
  },
  {
   "cell_type": "code",
   "execution_count": null,
   "metadata": {},
   "outputs": [],
   "source": [
    "#type code for assignment here\n",
    "\n"
   ]
  }
 ],
 "metadata": {
  "kernelspec": {
   "display_name": "Python 3",
   "language": "python",
   "name": "python3"
  },
  "language_info": {
   "codemirror_mode": {
    "name": "ipython",
    "version": 3
   },
   "file_extension": ".py",
   "mimetype": "text/x-python",
   "name": "python",
   "nbconvert_exporter": "python",
   "pygments_lexer": "ipython3",
   "version": "3.8.10"
  },
  "orig_nbformat": 4
 },
 "nbformat": 4,
 "nbformat_minor": 2
}
