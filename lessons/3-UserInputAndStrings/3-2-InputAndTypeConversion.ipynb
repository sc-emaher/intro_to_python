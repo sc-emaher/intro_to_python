{
 "cells": [
  {
   "cell_type": "markdown",
   "metadata": {},
   "source": [
    "# User Input\n",
    "\n",
    "Sometimes we need to ask the user for some information.  We use the `input` to accomplish this task.  \n",
    "\n",
    "```python\n",
    "my_variable_to_save_response = input(\"Prompt shown to user\")\n",
    "``````"
   ]
  },
  {
   "cell_type": "code",
   "execution_count": null,
   "metadata": {},
   "outputs": [],
   "source": [
    "# Note: If you are using Visual Studio Code, the user input prompt will show in the top center of the IDE.\n",
    "\n",
    "my_input = input(\"Quick.  Type something.\")\n",
    "\n",
    "print(f\"You typed: {my_input}\")\n"
   ]
  },
  {
   "cell_type": "markdown",
   "metadata": {},
   "source": [
    "## Working with types and user input\n",
    "\n",
    "The `input` function looks simple, but there is a catch. "
   ]
  },
  {
   "cell_type": "code",
   "execution_count": null,
   "metadata": {},
   "outputs": [],
   "source": [
    "my_input = input(\"How old are you?\")\n",
    "\n",
    "print(f\"You are {my_input} year(s) old.\")\n",
    "print(f\"The type of the my_input variable is {type(my_input)}.\")"
   ]
  },
  {
   "cell_type": "markdown",
   "metadata": {},
   "source": [
    "Did you see the catch?  We entered a number, but the `input` function returned string, making `my_input` a variable of type string.\n",
    "\n",
    "## Type Conversions\n",
    "\n",
    "If we wanted a variable of a different type, we must convert the information the user gives us (i.e. convert the value returned by the `input` function).\n",
    "Conversion functions for the types we've talked about are:\n",
    "- `str()`\n",
    "- `float()`\n",
    "- `bool()`\n",
    "- `int()`\n",
    "\n",
    "### Implicit conversions\n",
    "\n",
    "Implicit conversion are when the interpreter knows how to convert from one type to another automatically.  Here are some examples.\n",
    "\n",
    "| Original type | Original value | New type | New value |\n",
    "|---------------|----------------|----------|-----------|\n",
    "| bool | True | int | 1 |\n",
    "| bool | False | int | 0 |\n",
    "| bool | True | float | 1.0 |\n",
    "| int | 3 | float | 3.0 |\n",
    "| int | 0 | bool | false |\n",
    "| int | -21 | bool | True |\n",
    "| int | 42 | bool | True |\n",
    "| float | 1.0 | bool | True |\n",
    "| float | -42 | bool | True |\n",
    "| float | 0 | bool | False |\n",
    "| str | \"1\" | int | 1 |\n",
    "| str | \"-42.0\" | float | -42.0 |\n",
    "| str | \"1\" | bool | True |\n",
    "| str | \"0\" | bool | True |\n",
    "| str | \"\" | bool | False |"
   ]
  },
  {
   "cell_type": "code",
   "execution_count": null,
   "metadata": {},
   "outputs": [],
   "source": [
    "my_converted_int = int(\"1\")\n",
    "type(my_converted_int)\n"
   ]
  },
  {
   "cell_type": "code",
   "execution_count": null,
   "metadata": {},
   "outputs": [],
   "source": [
    "my_converted_float = float(\"1.00\")\n",
    "type(my_converted_float)"
   ]
  },
  {
   "cell_type": "code",
   "execution_count": null,
   "metadata": {},
   "outputs": [],
   "source": [
    "\n",
    "my_converted_bool = bool(1)\n",
    "type(my_converted_bool)\n"
   ]
  },
  {
   "cell_type": "code",
   "execution_count": null,
   "metadata": {},
   "outputs": [],
   "source": [
    "my_converted_string = str(1)\n",
    "type(my_converted_string)"
   ]
  },
  {
   "cell_type": "markdown",
   "metadata": {},
   "source": [
    "Now that we know how to convert types, lets try that again."
   ]
  },
  {
   "cell_type": "code",
   "execution_count": null,
   "metadata": {},
   "outputs": [],
   "source": [
    "my_input = int(input(\"How old are you?\"))\n",
    "\n",
    "print(f\"You are {my_input} year(s) old.\")\n",
    "print(f\"The type of the my_input variable is {type(my_input)}.\")"
   ]
  },
  {
   "cell_type": "markdown",
   "metadata": {},
   "source": [
    "WARNING: The value passed into conversion functions must be a valid representation of that type.\n",
    "\n",
    "For example, the following will fail.\n",
    "```python\n",
    "my_converted_int = int(\"abc\")\n",
    "```\n",
    "\n",
    "We'll talk about testing value types to avoid errors in a future lesson."
   ]
  },
  {
   "cell_type": "markdown",
   "metadata": {},
   "source": [
    "## Assignment 3.2\n",
    "\n",
    "### Program Requirements\n",
    "Write a program that:\n",
    "\n",
    "- Asks the name of the user and stores it in a string variable called `name`.\n",
    "- Asks the age of the user and stores it in an integer variable called `age`.\n",
    "- Prints a one-line greeting that includes user's name and age.\n",
    "- Prints the type of the `name` and `age` variables.\n",
    "\n",
    "Expected input and output:\n",
    "```text\n",
    "What is your name? Elizabeth\n",
    "What is your age? 23\n",
    "Hi! My name is Elizabeth and I am 23 years old.\n",
    "The type of the name variable is <class 'str'>.\n",
    "The type of the age variable is <class 'int'>.\n",
    "```\n",
    "Note: If using VSCode information user inputs will not show in output below the cell. ('Elizabeth' and '23' in example above would not be in cell output.)\n",
    "\n",
    "### Grading\n",
    "You will receive one point for each of the following:\n",
    "\n",
    "1. Gets the value of name from the user.\n",
    "1. Stores user name in one variable called `name`.\n",
    "1. Gets the value for age from the user.\n",
    "1. Ensuring that the value for age is an integer.\n",
    "1. Stores your age in another variable called `age`.\n",
    "1. Prints a one-line greeting that includes name and age using format string.\n",
    "1. Prints type of name variable.  It should be `<class 'str'>`.\n",
    "1. Prints type of age variable.  It should be `<class 'int'>`.\n",
    "\n",
    "### Hints\n",
    "\n",
    "- [CodeHS, Introduction to Python, Introduce yourself, part 2](https://codehs.com/textbook/intropython_textbook/1.6#item-4652291)\n",
    "- [CodeHS, Introduction to Python, Type Conversion, part 1.4](https://codehs.com/textbook/intropython_textbook/1.4#item-4652279)"
   ]
  },
  {
   "cell_type": "code",
   "execution_count": null,
   "metadata": {},
   "outputs": [],
   "source": [
    "# Write code for assignment here."
   ]
  }
 ],
 "metadata": {
  "kernelspec": {
   "display_name": "Python 3",
   "language": "python",
   "name": "python3"
  },
  "language_info": {
   "codemirror_mode": {
    "name": "ipython",
    "version": 3
   },
   "file_extension": ".py",
   "mimetype": "text/x-python",
   "name": "python",
   "nbconvert_exporter": "python",
   "pygments_lexer": "ipython3",
   "version": "3.11.5"
  },
  "orig_nbformat": 4
 },
 "nbformat": 4,
 "nbformat_minor": 2
}
