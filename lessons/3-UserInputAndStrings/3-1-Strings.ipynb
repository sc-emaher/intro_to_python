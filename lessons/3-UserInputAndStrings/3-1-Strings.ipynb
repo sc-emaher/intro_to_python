{
 "cells": [
  {
   "cell_type": "markdown",
   "metadata": {},
   "source": [
    "# Strings\n",
    "\n",
    "People don't think in ones and zeros.  God gave use the gift of language and that is what we use to communicate to each other.  Strings allow a programmer to communicate information to people that use the program.\n",
    "\n",
    "Sources:\n",
    "1. [Geeks for Geeks, String Concatenation](https://www.geeksforgeeks.org/python-string-concatenation/)\n",
    "1. [CodeHS, Introduction to Python, Section 1.6](https://codehs.com/textbook/intropython_textbook/1.6)\n",
    "1. Python Crash Course, pgs 19-25"
   ]
  },
  {
   "cell_type": "code",
   "execution_count": null,
   "metadata": {},
   "outputs": [],
   "source": [
    "# When declaring a string within a string,\n",
    "# use the other type of quote.\n",
    "interesting_fact = \"The language 'Python' is named after Monty Python, not the snake.\"\n",
    "print(interesting_fact)\n",
    "\n",
    "# or use an **escape character**\n",
    "interesting_fact = \"The language \\\"Python\\\" is named after Monty Python, not the snake.\"\n",
    "print(interesting_fact)"
   ]
  },
  {
   "cell_type": "code",
   "execution_count": null,
   "metadata": {},
   "outputs": [],
   "source": [
    "#Let's start with declaring a string.\n",
    "preview_text = \"Lorem ipsum dolor sit amet, consectetur adipiscing elit, sed do eiusmod tempor incididunt ut labore et dolore magna aliqua. Ut enim ad minim veniam, quis nostrud exercitation ullamco laboris nisi ut aliquip ex ea commodo consequat. Duis aute irure dolor in reprehenderit in voluptate velit esse cillum dolore eu fugiat nulla pariatur. Excepteur sint occaecat cupidatat non proident, sunt in culpa qui officia deserunt mollit anim id est laborum.\"\n",
    "\n",
    "print(preview_text)"
   ]
  },
  {
   "cell_type": "markdown",
   "metadata": {},
   "source": [
    "## Len function\n",
    "\n",
    "Wow, that's a long string.  How long is it anyway?\n",
    "\n",
    "The `len` function will tell use how many characters are in a string."
   ]
  },
  {
   "cell_type": "code",
   "execution_count": null,
   "metadata": {},
   "outputs": [],
   "source": [
    "len(preview_text)"
   ]
  },
  {
   "cell_type": "markdown",
   "metadata": {},
   "source": [
    "The text is really hard to read with so many characters.  Let's define a multi-line string."
   ]
  },
  {
   "cell_type": "code",
   "execution_count": null,
   "metadata": {},
   "outputs": [],
   "source": [
    "multiline_preview_text = '''\n",
    "Lorem ipsum dolor sit amet, \n",
    "consectetur adipiscing elit, \n",
    "sed do eiusmod tempor incididunt ut labore et dolore magna aliqua. \n",
    "Ut enim ad minim veniam, quis nostrud exercitation ullamco laboris nisi ut aliquip ex ea commodo consequat. \n",
    "Duis aute irure dolor in reprehenderit in voluptate velit esse cillum dolore eu fugiat nulla pariatur. \n",
    "Excepteur sint occaecat cupidatat non proident, sunt in culpa qui officia deserunt mollit anim id est laborum.'''\n",
    "\n",
    "# Note the first ''' must be on the same line as the variable declaration.\n",
    "# If it's on a different line, the computer will think it's a comment.\n",
    "\n",
    "print(multiline_preview_text)"
   ]
  },
  {
   "cell_type": "code",
   "execution_count": null,
   "metadata": {},
   "outputs": [],
   "source": [
    "# Let's check the length again.\n",
    "len(multiline_preview_text)"
   ]
  },
  {
   "cell_type": "markdown",
   "metadata": {},
   "source": [
    "Question: Why do `preview_text` and `multiline_preview_text` have different lengths?  \n",
    "Answer: Strings can also have **white space** characters that indicate when a new line or tab."
   ]
  },
  {
   "cell_type": "code",
   "execution_count": null,
   "metadata": {},
   "outputs": [],
   "source": [
    "# Purposely adding white space to a string\n",
    "# '\\n' is the newline character\n",
    "# '\\t' is the tab character\n",
    "print(\"This is a string\\nthat spans multiple lines.\\n\\tAnd even has indented text.\")"
   ]
  },
  {
   "cell_type": "markdown",
   "metadata": {},
   "source": [
    "## Slicing a string\n",
    "\n",
    "What if you only want to use part of a string?\n",
    "\n",
    "Strings are stored as a sequence of characters.  This list starts with an index of '0'.\n",
    "\n",
    "| 0 | 1 | 2 | 3 | 4 | 5 |\n",
    "| - | - | - | - | - | - |\n",
    "| S | u | m | m | i | t |\n",
    "\n",
    "We can use brackets `[` and `]` to tell Python what parts of the string we want."
   ]
  },
  {
   "cell_type": "code",
   "execution_count": null,
   "metadata": {},
   "outputs": [],
   "source": [
    "school_name  = \"Summit Classical Christian School\"\n",
    "\n",
    "# Get first character\n",
    "print(school_name[0])"
   ]
  },
  {
   "cell_type": "code",
   "execution_count": null,
   "metadata": {},
   "outputs": [],
   "source": [
    "# Get first 6 letters\n",
    "print(school_name[0:6])"
   ]
  },
  {
   "cell_type": "code",
   "execution_count": null,
   "metadata": {},
   "outputs": [],
   "source": [
    "# If you ask for more characters than the string holds, you'll get the whole thing!\n",
    "school_name[0:250]"
   ]
  },
  {
   "cell_type": "markdown",
   "metadata": {},
   "source": [
    "## Changing case\n",
    "\n",
    "You can also change the case of a string by calling different methods on a string object.\n",
    "\n",
    "Note: I used the term 'method' instead of 'function' on purpose.  We'll get into the details later, but for now think of functions as a reusable group of code not tied to a specific type.  Methods are tied to a specific type and have a slightly different syntax than functions.\n"
   ]
  },
  {
   "cell_type": "code",
   "execution_count": null,
   "metadata": {},
   "outputs": [],
   "source": [
    "first_programmer = \"Ada lovelace\"\n",
    "\n",
    "# Title case\n",
    "print(first_programmer.title())\n",
    "\n",
    "# Upper case\n",
    "print(first_programmer.upper())\n",
    "\n",
    "# Lower case\n",
    "print(first_programmer.lower())\n",
    "\n",
    "# you can re-assign string variable to be changed case of itself\n",
    "first_programmer = first_programmer.title()\n",
    "print(first_programmer)"
   ]
  },
  {
   "cell_type": "markdown",
   "metadata": {},
   "source": [
    "## String Concatenation\n",
    "\n",
    "It's common to need to concatenate (i.e. combine) strings.  We'll cover a few now and a few more in the future. \n",
    "\n",
    "1. Using the `+` operator\n",
    "1. Using a `,`\n",
    "1. Using a format string.\n",
    "1. Using `*` operator for repeating strings."
   ]
  },
  {
   "cell_type": "code",
   "execution_count": null,
   "metadata": {},
   "outputs": [],
   "source": [
    "school_short_name  = \"Summit\"\n",
    "school_type  = \"Classical Christian\"\n",
    "SCHOOL_CONSTANT_STRING  = \"School\""
   ]
  },
  {
   "cell_type": "markdown",
   "metadata": {},
   "source": [
    "### Using + operator"
   ]
  },
  {
   "cell_type": "code",
   "execution_count": null,
   "metadata": {},
   "outputs": [],
   "source": [
    "# + operator\n",
    "print(school_short_name + school_type + SCHOOL_CONSTANT_STRING)"
   ]
  },
  {
   "cell_type": "markdown",
   "metadata": {},
   "source": [
    "Oops.  Everything is all squished together.  Let's try that again."
   ]
  },
  {
   "cell_type": "code",
   "execution_count": null,
   "metadata": {},
   "outputs": [],
   "source": [
    "print(school_short_name + \" \" + school_type + \" \" + SCHOOL_CONSTANT_STRING)"
   ]
  },
  {
   "cell_type": "markdown",
   "metadata": {},
   "source": [
    "WARNING! All variables must be of type 'string' or the interpreter will get confused."
   ]
  },
  {
   "cell_type": "code",
   "execution_count": null,
   "metadata": {},
   "outputs": [],
   "source": [
    "print(\"this won't work\" + 3)"
   ]
  },
  {
   "cell_type": "markdown",
   "metadata": {},
   "source": [
    "### Using print with multiple inputs"
   ]
  },
  {
   "cell_type": "markdown",
   "metadata": {},
   "source": [
    "You can also concatenate strings by passing a comma-separated list if strings to combine.  Unless otherwise specified, a space will be added in between variable value being combined.\n",
    "\n",
    "Note: `print()` is a special function that can take a varying number of inputs.  You can pass in 1 string, or 30 strings."
   ]
  },
  {
   "cell_type": "code",
   "execution_count": null,
   "metadata": {},
   "outputs": [],
   "source": [
    "# using ,\n",
    "# Note: Using a comma will automatically add spaces between each string variable value being printed.\n",
    "print(school_short_name, school_type, SCHOOL_CONSTANT_STRING)"
   ]
  },
  {
   "cell_type": "markdown",
   "metadata": {},
   "source": [
    "### Format strings\n",
    "\n",
    "Another way to combine strings is to use a format string.  Format strings are useful when you are inserting values into a long string.\n",
    "\n",
    "Format strings are identified by the `f` before the first `\"` of the string.  Variables are identified by the curly brackets.  For example,\n",
    "```python\n",
    "my_format_string = f\"My format string has shows values for {varabile_1} and {variable_2}\"\n",
    "```"
   ]
  },
  {
   "cell_type": "code",
   "execution_count": null,
   "metadata": {},
   "outputs": [],
   "source": [
    "# Using format string\n",
    "# Notice the f before the string and the curly braces around the variable names.\n",
    "\n",
    "full_string = f\"The full name of the school is {school_short_name} {school_type} {SCHOOL_CONSTANT_STRING}.\"\n",
    "\n",
    "print(full_string)\n"
   ]
  },
  {
   "cell_type": "code",
   "execution_count": null,
   "metadata": {},
   "outputs": [],
   "source": [
    "# A benefit of format strings is they will automatically convert all variables in {} to a string (if possible)\n",
    "my_float = 3.14159\n",
    "print(f\"My float is {my_float}\")"
   ]
  },
  {
   "cell_type": "markdown",
   "metadata": {},
   "source": [
    "We've covered most modern way of using a format strings. We won't be using the older style because it is less readable. The older style looks like the following:\n",
    "```python\n",
    "txt2 = \"My name is {0}, I'm {1}\".format(\"John\",36)\n",
    "```\n",
    "The `{0}` is replaced by the first value listed in the `format` function.  In our example `{0}` is replaced by `John` and `{1}` is replaced by `36`."
   ]
  },
  {
   "cell_type": "markdown",
   "metadata": {},
   "source": [
    "### Creating repeating strings"
   ]
  },
  {
   "cell_type": "code",
   "execution_count": null,
   "metadata": {},
   "outputs": [],
   "source": [
    "# **Python-ism**\n",
    "# Use * to create a new string that is repeated by the number specified\n",
    "\n",
    "my_string = \"My really long string. \" * 100\n",
    "print(my_string)"
   ]
  },
  {
   "cell_type": "markdown",
   "metadata": {},
   "source": [
    "## Assignment 3.1\n",
    "\n",
    "### Introduce yourself\n",
    "\n",
    "Write a program that:\n",
    "- Stores your name in one variable called name\n",
    "- Stores your age in another variable called age\n",
    "- prints a one-line greeting that includes your name and your age.\n",
    "\n",
    "Your program should output something like this:\n",
    "```text\n",
    "Hi! My name is Arthur and I am 62 years old.\n",
    "```\n",
    "\n",
    "Tip: [CodeHS, Introduction to Python, Introduce yourself, part 2](https://codehs.com/textbook/intropython_textbook/1.6#item-4652291)"
   ]
  },
  {
   "cell_type": "code",
   "execution_count": null,
   "metadata": {},
   "outputs": [],
   "source": [
    "# Put code for 'Introduce yourself' assignment here."
   ]
  },
  {
   "cell_type": "markdown",
   "metadata": {},
   "source": [
    "### Famous Message\n",
    "\n",
    "- Use a variable to represent a person's name (first and last).\n",
    "- Ensure name is in title-case.\n",
    "- Use a variable to hold a quote.\n",
    "- Print the person's quote surrounded by double quotes, then name of person indented.\n",
    "- Use a format string\n",
    "\n",
    "Example output:\n",
    "```text\n",
    "\"A person who never made a mistake never tried anything new.\"\n",
    "    - Albert Einstein\n",
    "```\n",
    "\n",
    "source: Python Crash Course, pg 25"
   ]
  },
  {
   "cell_type": "code",
   "execution_count": null,
   "metadata": {},
   "outputs": [],
   "source": [
    "# Put code for 'Famous Message' assignment here.\n"
   ]
  }
 ],
 "metadata": {
  "kernelspec": {
   "display_name": "Python 3",
   "language": "python",
   "name": "python3"
  },
  "language_info": {
   "codemirror_mode": {
    "name": "ipython",
    "version": 3
   },
   "file_extension": ".py",
   "mimetype": "text/x-python",
   "name": "python",
   "nbconvert_exporter": "python",
   "pygments_lexer": "ipython3",
   "version": "3.11.5"
  },
  "orig_nbformat": 4
 },
 "nbformat": 4,
 "nbformat_minor": 2
}
