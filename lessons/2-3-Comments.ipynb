{
 "cells": [
  {
   "cell_type": "markdown",
   "metadata": {},
   "source": [
    "# Comments\n",
    "\n",
    "Before we go any further, let's talk about comments.  There are two types of comments in Python.\n",
    "\n",
    "We use comments because\n",
    "1. They will help you remember your code when you go back to it.\n",
    "1. They convey important information to another programmer.  \n",
    "    1. This is critical in group projects and the \"real world\".  Almost all programs are completed by teams.\n",
    "    1. Entry level programmers are often tasked with maintaining legacy projects.  Comments are important to help the programmer get up to speed.\n",
    "1. They can help when debugging (i.e. trying to fix) your program.  You can temporarily tell the computer not to run a specific line of code without having to delete it.\n",
    "1. They can be used as a *temporary* place holder for to-do notes or program flow notes.\n",
    "\n",
    "\n",
    "## Single line comments\n",
    "```python\n",
    "# This is a single line comment.\n",
    "\n",
    "```\n",
    "\n",
    "## Multiline comments\n",
    "```python\n",
    "# This is a multiline comment.\n",
    "# It's useful when describing the purpose of a several lines code.\n",
    "# You'll see multi-line code when we we start writing methods and classes.\n",
    "\n",
    "# Remember, don't make each line too long.\n",
    "```\n",
    "\n",
    "## Docstring comments\n",
    "```python\n",
    "\"\"\"\n",
    "This is a docstring comment.\n",
    "You'll see multi-line code when we we start writing methods and classes.\n",
    "As the name suggests, these types of comments are good for helping you write documentation for your code.\n",
    "\"\"\"\n",
    "\n",
    "'''\n",
    "This is also a doc string comment.\n",
    "Double quote docstring comments are more common because this syntax can be confused with multiline strings.\n",
    "'''\n",
    "```\n",
    "\n",
    "\n",
    "## Example\n",
    "\n",
    "[Trapezoid program](https://codehs.com/textbook/intropython_textbook/1.7#item-4652294)\n",
    "\n",
    "### Sources\n",
    "\n",
    "- [CodeHS, Intro to Python Textbook, 1.37](https://codehs.com/textbook/intropython_textbook/1.7)\n",
    "- [Geeks for Geeks, Python Comments](https://www.geeksforgeeks.org/python-comments/)\n",
    "- [Geeks for Geeks, Docstring Comments](https://www.geeksforgeeks.org/python-docstrings/)"
   ]
  },
  {
   "cell_type": "markdown",
   "metadata": {},
   "source": [
    "## Assignment\n",
    "\n",
    "- Create single line comment stating your favorite book\n",
    "- Create a multi-line comment. State the author on one line and the other line stating the genre of the book.\n",
    "- Create a doc comment summarizing the book, or stating why it's your favorite book.  Comment must be at least 2 sentences.  No more than 5 sentences please.\n"
   ]
  },
  {
   "cell_type": "code",
   "execution_count": null,
   "metadata": {},
   "outputs": [],
   "source": [
    "## add code for assignment here."
   ]
  }
 ],
 "metadata": {
  "language_info": {
   "name": "python"
  },
  "orig_nbformat": 4
 },
 "nbformat": 4,
 "nbformat_minor": 2
}
