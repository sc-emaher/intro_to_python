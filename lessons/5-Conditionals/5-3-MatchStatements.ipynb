{
 "cells": [
  {
   "cell_type": "markdown",
   "metadata": {},
   "source": [
    "# Match Statements\n",
    "\n",
    "The `match` statements can make your code look cleaner when you have a several `if` and `elif` statements of a certain type in a row.  It's what some programmers call \"syntax sugar\".  While the code is easier to read for humans, it's all the same to the computer as the interpreter will convert the `match` statement into a series of `if-elif-else` statements.  \n",
    "\n",
    "In Python, the `match` statement does pattern matching.  Sometimes for more complicated code, you may have to stick with and `if` statement.\n",
    "\n",
    "Note: It's best practice to use a `match` statement only when there are multiple `if` and `elif`.  While syntactically correct, it's a little silly to use if for a simple `if-else` statement.\n",
    "\n",
    "**Sources:**\n",
    "\n",
    "- [PEP 0634 - Structural Pattern Matching: Specification](https://peps.python.org/pep-0634/)\n"
   ]
  },
  {
   "cell_type": "markdown",
   "metadata": {},
   "source": [
    "Let's start with a `if-elif-else` statement and convert it to a `match` statement."
   ]
  },
  {
   "cell_type": "code",
   "execution_count": null,
   "metadata": {},
   "outputs": [],
   "source": [
    "#Determine if character is a vowel\n",
    "\n",
    "my_character = input(\"Enter a character.\")\n",
    "\n",
    "#convert character to lower case so the if-elif-else statement is easier\n",
    "my_character = my_character.lower()\n",
    "\n",
    "if not my_character.isalpha():\n",
    "    print(\"Try again.  You didn't enter an alphabetic character.\")\n",
    "else:\n",
    "    if my_character == 'a':\n",
    "        print(f\"The character {my_character} is a vowel.\")\n",
    "    elif my_character == 'e':\n",
    "        print(f\"The character {my_character} is a vowel.\")\n",
    "    elif my_character == 'i':\n",
    "        print(f\"The character {my_character} is a vowel.\")\n",
    "    elif my_character == 'o':\n",
    "        print(f\"The character {my_character} is a vowel.\")\n",
    "    elif my_character == 'u':\n",
    "        print(f\"The character {my_character} is a vowel.\")\n",
    "    elif my_character == 'y':\n",
    "        print(f\"The character {my_character} is sometimes vowel.\")\n",
    "    else:\n",
    "        print(f\"The character {my_character} is a consonant.\")"
   ]
  },
  {
   "cell_type": "markdown",
   "metadata": {},
   "source": [
    "The `if-elif-else` statement has the pattern:\n",
    "\n",
    "```python\n",
    "if my_variable == \"value1\"\n",
    "    #do something\n",
    "else myvariable == \"value2\"\n",
    "    #do something else\n",
    "else\n",
    "    #default case\n",
    "    #do something\n",
    "``````\n",
    "\n",
    "It converts to:\n",
    "```python\n",
    "match(my_variable):\n",
    "    case \"value1\":\n",
    "        #do something\n",
    "    case \"value2\":\n",
    "        #do something else\n",
    "    case _:\n",
    "        #default case\n",
    "        #do something\n",
    "``````\n",
    "The default case (`_`) is optional.  Just like in `if` statements, the `else` statement is optional. In python the `_` case is referred to as the wildcard case.\n",
    "\n",
    "Just like `if-elif` statements, Python will evaluate the statements under the _first_ case that matches.\n",
    "\n",
    "Let's convert our above example."
   ]
  },
  {
   "cell_type": "code",
   "execution_count": null,
   "metadata": {},
   "outputs": [],
   "source": [
    "#Determine if character is a vowel\n",
    "\n",
    "my_character = input(\"Enter a character.\")\n",
    "\n",
    "#convert character to lower case so the if-elif-else statement is easier\n",
    "my_character = my_character.lower()\n",
    "\n",
    "if not my_character.isalpha():\n",
    "    print(\"Try again.  You didn't enter an alphabetic character.\")\n",
    "else:\n",
    "    match(my_character):\n",
    "        case 'a': print(f\"The character {my_character} is a vowel.\")\n",
    "        case 'e': print(f\"The character {my_character} is a vowel.\")\n",
    "        case 'i': print(f\"The character {my_character} is a vowel.\")\n",
    "        case 'o': print(f\"The character {my_character} is a vowel.\")\n",
    "        case 'u': print(f\"The character {my_character} is a vowel.\")\n",
    "        case 'y': print(f\"The character {my_character} is sometimes vowel.\")\n",
    "        case _: print(f\"The character {my_character} is a consonant.\")"
   ]
  },
  {
   "cell_type": "markdown",
   "metadata": {},
   "source": [
    "The `case` statements can also have multiple values on the same line."
   ]
  },
  {
   "cell_type": "code",
   "execution_count": null,
   "metadata": {},
   "outputs": [],
   "source": [
    "#Determine if character is a vowel\n",
    "\n",
    "my_character = input(\"Enter a character.\")\n",
    "\n",
    "if not my_character.isalpha():\n",
    "    print(\"Try again.  You didn't enter an alphabetic character.\")\n",
    "else:\n",
    "    match(my_character.lower()):\n",
    "        case 'a' | 'e' | 'i' | 'o' | 'u' : \n",
    "            print(f\"The character {my_character} is a vowel.\")\n",
    "        case 'y': \n",
    "            print(f\"The character {my_character} is sometimes vowel.\")\n",
    "        case _: \n",
    "            print(f\"The character {my_character} is a consonant.\")"
   ]
  },
  {
   "cell_type": "markdown",
   "metadata": {},
   "source": [
    "You can also match numbers, boolean, strings."
   ]
  },
  {
   "cell_type": "code",
   "execution_count": null,
   "metadata": {},
   "outputs": [],
   "source": [
    "#Number example from https://peps.python.org/pep-0636/\n",
    "def http_error(status):\n",
    "    match status:\n",
    "        case 400:\n",
    "            return \"Bad request\"\n",
    "        case 404:\n",
    "            return \"Not found\"\n",
    "        case 418:\n",
    "            return \"I'm a teapot\"\n",
    "        case _:\n",
    "            return \"Something's wrong with the Internet\""
   ]
  },
  {
   "cell_type": "markdown",
   "metadata": {},
   "source": [
    "## Challenge\n",
    "\n",
    "Remember, `match` statements only work with pattern matching.  You can't call methods on an object.  This code, won't work.\n",
    "\n",
    "```python\n",
    "my_character = input(\"Enter a character.\")\n",
    "\n",
    "match(my_character.lower()):\n",
    "    case 'a' | 'e' | 'i' | 'o' | 'u' : \n",
    "        print(f\"The character {my_character} is a vowel.\")\n",
    "    case 'y'\n",
    "        print(f\"The character {my_character} is sometimes vowel.\")\n",
    "    case isalpha(): : \n",
    "        print(f\"The character {my_character} is a consonant.\")\n",
    "``````\n"
   ]
  },
  {
   "cell_type": "markdown",
   "metadata": {},
   "source": [
    "However, you can add a conditional statement after a `case` statement."
   ]
  },
  {
   "cell_type": "code",
   "execution_count": null,
   "metadata": {},
   "outputs": [],
   "source": [
    "my_character = input(\"Enter a character.\")\n",
    "\n",
    "match(my_character.lower()):\n",
    "    case 'a' | 'e' | 'i' | 'o' | 'u' : \n",
    "        print(f\"The character {my_character} is a vowel.\")\n",
    "    case 'y': \n",
    "        print(f\"The character {my_character} is sometimes vowel.\")\n",
    "    case _ if my_character.isalpha(): \n",
    "        print(f\"The character {my_character} is a consonant.\")\n",
    "    case _:\n",
    "        print(\"Try again.  You didn't enter an alphabetic character.\")"
   ]
  },
  {
   "cell_type": "markdown",
   "metadata": {},
   "source": [
    "## One more thing...\n",
    "\n",
    "That's it for now.  We will keep coming back to `match` statements as we learn more about the language.\n",
    "\n",
    "But before we go, a note about other languages.  Some languages have a `switch` statement.  These are similar to `match` statements, but the expression is evaluated for each case.  Python `match` statements only do pattern matching."
   ]
  },
  {
   "cell_type": "markdown",
   "metadata": {},
   "source": [
    "## Assignments for 5.3\n",
    "\n",
    "### Assignment 5.3.1\n",
    "\n",
    "Ask the user to and integer from 1 to 12, then use a `if-else` or `match` statements to print the name of the month.  If the user doesn't enter a number from 1 to 12, print \"Invalid input.\"\n",
    "\n",
    "Example output: \n",
    "\n",
    "```text\n",
    "Enter a number between 1 and 12: 2\n",
    "February\n",
    "\n",
    "Enter a number between 1 and 12: 78\n",
    "Invalid input\n",
    "```\n",
    "\n",
    "#### Grading\n",
    "\n",
    "|Item | Points Possible |\n",
    "|-----|-----------------|\n",
    "| Ask user for number | 1 |\n",
    "| Verify number is an integer between 1 and 12 | 2 |\n",
    "| Correctly print out month for valid input | 3 |\n",
    "| Correctly print `\"Invalid input\"` if number not between 1 and 12 | 1 |"
   ]
  },
  {
   "cell_type": "code",
   "execution_count": null,
   "metadata": {},
   "outputs": [],
   "source": [
    "# Enter code for assignment here."
   ]
  },
  {
   "cell_type": "markdown",
   "metadata": {},
   "source": [
    "### Assignment 5.3.2\n",
    "\n",
    "Ask the user to enter the name of a month and print out how many days the month has.  If the user types something that is not a month, print \"Invalid input.\"\n",
    "\n",
    "- You can use `if-else` or `match` statements, but it's faster using `match` statements.\n",
    "- User can enter month with any capitalization they want. \n",
    "    - Hint: Use a string method to change user input into something you expect.\n",
    "\n",
    "| Month | Days |\n",
    "|-------|------|\n",
    "| January| 31 |\n",
    "| February | 28 or 29 |\n",
    "| March | 31 |\n",
    "| April | 30 |\n",
    "| May |\t31 |\n",
    "| June | 30 |\n",
    "| July| 31 |\n",
    "| August | 31 |\n",
    "| September | 30 |\n",
    "| October | 31 |\n",
    "| November | 30 |\n",
    "| December | 31 |\n",
    "\n",
    "Example output:\n",
    "\n",
    "```text\n",
    "Enter the name of a month: august\n",
    "August has 31 days.\n",
    "\n",
    "Enter the name of a month: my month\n",
    "Invalid input.\n",
    "```\n",
    "\n",
    "**Challenge**: Try to use as few `match` statements as possible.\n",
    "\n",
    "\n",
    "#### Grading\n",
    "\n",
    "|Item | Points Possible |\n",
    "|-----|-----------------|\n",
    "| Ask user for month | 1 |\n",
    "| Modify input to correctly compare texts | 1 |\n",
    "| Correctly print out number of days for valid input | 3 |\n",
    "| Correctly print `\"Invalid input\"` if user doesn't enter a month | 1 |\n",
    "| Use a format string | 1 |"
   ]
  },
  {
   "cell_type": "code",
   "execution_count": null,
   "metadata": {},
   "outputs": [],
   "source": [
    "#Enter code for assignment here."
   ]
  }
 ],
 "metadata": {
  "kernelspec": {
   "display_name": "Python 3",
   "language": "python",
   "name": "python3"
  },
  "language_info": {
   "codemirror_mode": {
    "name": "ipython",
    "version": 3
   },
   "file_extension": ".py",
   "mimetype": "text/x-python",
   "name": "python",
   "nbconvert_exporter": "python",
   "pygments_lexer": "ipython3",
   "version": "3.11.5"
  },
  "orig_nbformat": 4
 },
 "nbformat": 4,
 "nbformat_minor": 2
}
