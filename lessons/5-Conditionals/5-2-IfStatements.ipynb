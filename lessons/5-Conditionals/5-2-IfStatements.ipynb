{
 "cells": [
  {
   "cell_type": "markdown",
   "metadata": {},
   "source": [
    "# 5.2 - Conditional Statements\n",
    "\n",
    "Conditional statements are statements that allow programmers to control the flow of a program based on the result of a boolean expression.  We'll learn a few conditional statements in this class.  Let's start with `if` statements.\n",
    "\n",
    "## If statements\n",
    "\n",
    "If statements are one of the most used statements used to control the flow of a program.  \n",
    "\n",
    "The syntax for an `if` statement is:\n",
    "```python\n",
    "if <expression>:\n",
    "    # The expression is true\n",
    "```\n",
    "\n",
    ">[!IMPORTANT]\n",
    ">Indentation is VERY important in Python.  It tells the interpreter what statements should be considered a group.\n"
   ]
  },
  {
   "cell_type": "code",
   "execution_count": 1,
   "metadata": {},
   "outputs": [
    {
     "name": "stdout",
     "output_type": "stream",
     "text": [
      "My bool is True\n"
     ]
    }
   ],
   "source": [
    "my_bool = True\n",
    "\n",
    "if my_bool:\n",
    "    print(f\"My bool is {my_bool}\")"
   ]
  },
  {
   "cell_type": "code",
   "execution_count": 2,
   "metadata": {},
   "outputs": [],
   "source": [
    "my_bool = False\n",
    "\n",
    "if my_bool:\n",
    "    print(f\"My bool is {my_bool}\")"
   ]
  },
  {
   "cell_type": "markdown",
   "metadata": {},
   "source": [
    "## If-else statements\n",
    "\n",
    "What if I want to do something if the expression is false?  No problem.  Time for an if-else statement.\n",
    "\n",
    "The syntax for an `if` statement is:\n",
    "```python\n",
    "if <expression>:\n",
    "    # The expression is true\n",
    "else\n",
    "    # The expression is false.  \n",
    "    #Don't forget to indent\n",
    "```"
   ]
  },
  {
   "cell_type": "code",
   "execution_count": 3,
   "metadata": {},
   "outputs": [
    {
     "name": "stdout",
     "output_type": "stream",
     "text": [
      "The my_bool expression evaluated to false.\n",
      "The my_bool2 expression evaluated to true.\n"
     ]
    }
   ],
   "source": [
    "my_bool = False\n",
    "my_bool2 = True\n",
    "\n",
    "if my_bool:\n",
    "    print(\"The my_bool expression evaluated to true.\")\n",
    "else:\n",
    "    print(\"The my_bool expression evaluated to false.\")\n",
    "\n",
    "\n",
    "\n",
    "if my_bool2:\n",
    "    print(\"The my_bool2 expression evaluated to true.\")\n",
    "else:\n",
    "    print(\"The my_bool2 expression evaluated to false.\")"
   ]
  },
  {
   "cell_type": "markdown",
   "metadata": {},
   "source": [
    "## Conditionals and boolean statements\n",
    "\n",
    "An `if` or `if-else` statement requires an expression that evaluates to `True` or `False`.  However, the expression itself can be quite complicated.  Let's use one of the boolean expressions from the previous section."
   ]
  },
  {
   "cell_type": "code",
   "execution_count": 4,
   "metadata": {},
   "outputs": [
    {
     "name": "stdout",
     "output_type": "stream",
     "text": [
      "The my_bool expression evaluated to false.\n"
     ]
    }
   ],
   "source": [
    "my_bool = not (False or (True and True))\n",
    "\n",
    "if my_bool:\n",
    "    print(\"The my_bool expression evaluated to true.\")\n",
    "else:\n",
    "    print(\"The my_bool expression evaluated to false.\")"
   ]
  },
  {
   "cell_type": "markdown",
   "metadata": {},
   "source": [
    "The expression after the `if` doesn't have to be a single boolean variable.  It can be an \"inline\" expression."
   ]
  },
  {
   "cell_type": "code",
   "execution_count": 5,
   "metadata": {},
   "outputs": [
    {
     "name": "stdout",
     "output_type": "stream",
     "text": [
      "The my_bool expression evaluated to false.\n"
     ]
    }
   ],
   "source": [
    "if not (False or (True and True)):\n",
    "    print(\"The my_bool expression evaluated to true.\")\n",
    "else:\n",
    "    print(\"The my_bool expression evaluated to false.\")"
   ]
  },
  {
   "cell_type": "code",
   "execution_count": 6,
   "metadata": {},
   "outputs": [
    {
     "name": "stdout",
     "output_type": "stream",
     "text": [
      "The my_bool expression evaluated to false.\n"
     ]
    }
   ],
   "source": [
    "my_bool1 = False\n",
    "my_bool2 = True\n",
    "my_bool3 = True\n",
    "\n",
    "if not (my_bool1 or (my_bool2 and my_bool3)):\n",
    "    print(\"The my_bool expression evaluated to true.\")\n",
    "else:\n",
    "    print(\"The my_bool expression evaluated to false.\")"
   ]
  },
  {
   "cell_type": "markdown",
   "metadata": {},
   "source": [
    "## Comparison Operators\n",
    "\n",
    "Sometimes we need to compare a variable to something else, or even another variable.  Comparison operators let us do that.\n",
    "\n",
    "| Operator | Meaning | Example | Result |\n",
    "|----------|---------|---------|--------|\n",
    "| == | equal to | 1 == 2| False |\n",
    "|!=\t| not equal to | 3 != 4\t| True |\n",
    "| >\t| greater than | 5 > 6 | False |\n",
    "| <\t| less than |6 < 7 | True |\n",
    "| >= | greater than or equal to | 6 >= 7 | False |\n",
    "| <= |less than or equal to\t| 6 <= 7 |True |\n",
    "\n",
    "Comparison operators can also be used with strings.  Instead of number value, we are comparing alphabetical order. It's important to note that capital letters and lower case letters are not considered equivalent. Order is a-z then A-Z\n",
    "\n",
    "| Operator | Meaning | Example | Result |\n",
    "|----------|---------|---------|--------|\n",
    "| == | equal to | \"a\" == \"b\"| False |\n",
    "|!=\t| not equal to | \"a\" != \"b\"\t| True |\n",
    "| >\t| later in alphabetical order | \"apple\" > \"pear\" | False |\n",
    "| <\t| earlier in alphabetical order | \"apple\" > \"pear\" | True |\n",
    "| >= | the same string or later in alphabetical order | \"apple\" >= \"Apple\" | False |\n",
    "| <= | the same string or later in alphabetical order | \"Apple\" >= \"apple\" | True |\n",
    "\n",
    "\n",
    "Sources: \n",
    "- [Intro to Python Textbook, CodeHS, Section 2.3](https://codehs.com/textbook/intropython_textbook/2.3)\n",
    "- [Geeks for Geeks, String Comparison in Python](https://www.geeksforgeeks.org/string-comparison-in-python/)\n"
   ]
  },
  {
   "cell_type": "markdown",
   "metadata": {},
   "source": [
    "## If-elif-else statements\n",
    "\n",
    "`If-else` statements when programming a problem that requires you to do either A or B depending on some conditions.  However, sometimes the program needs to do A, B, C, D or E.  This is where the `if-elif` and `if-elif-else` statements are useful."
   ]
  },
  {
   "cell_type": "code",
   "execution_count": null,
   "metadata": {},
   "outputs": [],
   "source": [
    "#ask user for a number\n",
    "my_number = int(input(\"Pick a number.\"))\n",
    "\n",
    "if my_number > 10:\n",
    "    print(\"Number is greater than 10\")\n",
    "elif my_number > 5:\n",
    "    print(\"Number is between 6 - 9, inclusive.\")\n",
    "\n",
    "print (\"Execution complete.\")"
   ]
  },
  {
   "cell_type": "markdown",
   "metadata": {},
   "source": [
    "Use `if-elif-else` when you have a 'default' set of statements to be executed if all the previous conditional aren't executed."
   ]
  },
  {
   "cell_type": "code",
   "execution_count": null,
   "metadata": {},
   "outputs": [],
   "source": [
    "#ask user for a number\n",
    "my_number = int(input(\"Pick a number.\"))\n",
    "\n",
    "if my_number > 10:\n",
    "    print(\"Number is greater than 10\")\n",
    "elif my_number > 5:\n",
    "    print(\"Number is between 6 - 9, inclusive.\")\n",
    "elif my_number >= 0:\n",
    "    print(\"Number is between 0 - 5, inclusive.\")\n",
    "else:\n",
    "    print(\"A negative number.  Really?\")"
   ]
  },
  {
   "cell_type": "markdown",
   "metadata": {},
   "source": [
    "Try running the above cell a few times with different numbers.  Did you notice that the expressions are evaluated in order?"
   ]
  },
  {
   "cell_type": "code",
   "execution_count": null,
   "metadata": {},
   "outputs": [],
   "source": [
    "#ask user for a number\n",
    "my_number = int(input(\"Pick a number.\"))\n",
    "\n",
    "if my_number > 10:\n",
    "    print(\"Number is greater than 10\")\n",
    "elif my_number > 5:\n",
    "    print(\"Number is between 6 - 9, inclusive.\")\n",
    "elif my_number >= 0:\n",
    "    print(\"Number is between 0 - 5, inclusive.\")\n",
    "elif my_number > 100:\n",
    "    print(\"Sadly, this statement will never be printed.\")\n",
    "else:\n",
    "    print(\"A negative number.  Really?\")"
   ]
  },
  {
   "cell_type": "markdown",
   "metadata": {},
   "source": [
    "Expressions can be quite complicated. Let's have some fun with the common math functions we learned earlier."
   ]
  },
  {
   "cell_type": "code",
   "execution_count": null,
   "metadata": {},
   "outputs": [],
   "source": [
    "#ask user for a number\n",
    "my_number = int(input(\"Pick a number.\"))\n",
    "\n",
    "if my_number > 10 and my_number % 2 == 0:\n",
    "    print(\"Number is greater than 10 and even.\")\n",
    "elif  my_number % 1 == 0 and my_number // 3 > 12:\n",
    "    print(\"Number is odd and greater than 36.\")\n",
    "elif my_number > 100:\n",
    "    print(\"Number is greater than zero and didn't fit any of the above conditions\")\n",
    "\n",
    "\n",
    "print(\"Execution complete.\")"
   ]
  },
  {
   "cell_type": "markdown",
   "metadata": {},
   "source": [
    "\n",
    "The `else` statement is a \"catch all\" statement.  \n",
    "\n",
    "Some programmers argue that you shouldn't use `else` statements they may execute when its not expected. For example, you receive malicious data.  Instead, they argue, you should use `if-elif` statements only and make sure the last `elif` statement covers everything needed for a \"catch all\" statement.  Other programmers argue that _not_ using an `else` statement may lead to error if the last `elif` condition is not programmed correctly.  These programmers argue that any input from the user should be validated before being used to control the flow of the program.\n",
    "\n",
    "It is quite common for a program to:\n",
    "\n",
    "- Ask for input from a user.\n",
    "- Validation input from user (often using conditionals).\n",
    "- Perform an action based on validated user input.\n"
   ]
  },
  {
   "cell_type": "markdown",
   "metadata": {},
   "source": [
    "## Assignment for 5.2\n",
    "\n",
    "Write a program that asks user for when they were born.  Based on their birth year print their generation according to the chard below.  If they enter a year outside those listed in the chart, print \"Unable to determine your generation.\"\n",
    "\n",
    "![Generation Chart](https://www.careerplanner.com/Images/social/Generations-wide-table1-250h-500w.png)  \n",
    "\n",
    "Example output:\n",
    "```text\n",
    "When were you born? 1927\n",
    "\"You are in 'The Silent Generation'.\"\n",
    "\n",
    "When were you born? 1800\n",
    "\"Unable to determine your generation.\"\n",
    "```\n",
    "\n",
    "#### Grading\n",
    "\n",
    "|Item | Points Possible |\n",
    "|-----|-----------------|\n",
    "| Ask user for year | 1 |\n",
    "| Verify user input is an integer | 2 |\n",
    "| Correctly print out generation for valid input | 3 |\n",
    "| Correctly print `\"Unable to determine your generation\"` if year before 1890 or after 2025 | 1 |"
   ]
  },
  {
   "cell_type": "code",
   "execution_count": 11,
   "metadata": {},
   "outputs": [],
   "source": [
    "#Enter code for assignment here."
   ]
  },
  {
   "cell_type": "markdown",
   "metadata": {},
   "source": [
    "Extra practice: [Intro to Python Textbook, CodeHS, Becoming a Therapist](https://codehs.com/textbook/intropython_textbook/2.4#item-4652323)\n",
    "\n",
    "Challenge: [Intro to Python Textbook, CodeHS, Floating Point Numbers and Rounding](https://codehs.com/textbook/intropython_textbook/2.5)"
   ]
  }
 ],
 "metadata": {
  "kernelspec": {
   "display_name": "Python 3",
   "language": "python",
   "name": "python3"
  },
  "language_info": {
   "codemirror_mode": {
    "name": "ipython",
    "version": 3
   },
   "file_extension": ".py",
   "mimetype": "text/x-python",
   "name": "python",
   "nbconvert_exporter": "python",
   "pygments_lexer": "ipython3",
   "version": "3.11.5"
  },
  "orig_nbformat": 4
 },
 "nbformat": 4,
 "nbformat_minor": 2
}
