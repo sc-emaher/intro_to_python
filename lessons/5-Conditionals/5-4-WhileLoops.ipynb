{
 "cells": [
  {
   "cell_type": "markdown",
   "metadata": {},
   "source": [
    "# 5.4 - While Loops\n",
    "\n",
    "Sometimes we need to repeat some code over and over again.  There are a couple of ways to do this.\n",
    "\n",
    "1. Use a `while` loop, which use boolean expressions to determine when the loop should be stopped.\n",
    "2. Use a `for` loop, which executes the code for each item in a list.\n",
    "\n",
    "The syntax for a `while` loop looks like:\n",
    "\n",
    "```python\n",
    "while my_boolean_condition:\n",
    "    # write code here\n",
    "```\n",
    "\n",
    "Just like with `if` statements, indentation is very important!\n",
    "\n",
    "Let's start with a while loop that prints all the even numbers from 10 to 20.  (Note: Using the 'end' parameter for the print function allows everything to be printed on one line.)"
   ]
  },
  {
   "cell_type": "code",
   "execution_count": 5,
   "metadata": {},
   "outputs": [
    {
     "name": "stdout",
     "output_type": "stream",
     "text": [
      "Printing even numbers from 10 to 20.\n",
      "10 12 14 16 18 20 "
     ]
    }
   ],
   "source": [
    "beginning_number = 10\n",
    "ending_number = 20\n",
    "\n",
    "print(f\"Printing even numbers from {beginning_number} to {ending_number}.\")\n",
    "\n",
    "current_number = beginning_number\n",
    "\n",
    "while current_number <= ending_number:\n",
    "\n",
    "    if current_number % 2 == 0:\n",
    "        \n",
    "        print(current_number, end=\" \")\n",
    "\n",
    "    current_number +=  1"
   ]
  },
  {
   "cell_type": "markdown",
   "metadata": {},
   "source": [
    "## Infinite loops\n",
    "\n",
    "Beware of infinite loops!  If the boolean expression in a `while` loop is always `True` then the program will never end."
   ]
  },
  {
   "cell_type": "code",
   "execution_count": null,
   "metadata": {},
   "outputs": [],
   "source": [
    "# This will run forever!\n",
    "# Click the 'square' stop button to the left of the cell to stop.\n",
    "\n",
    "temp_variable = 0\n",
    "while True:\n",
    "    temp_variable = 0"
   ]
  },
  {
   "cell_type": "code",
   "execution_count": null,
   "metadata": {},
   "outputs": [],
   "source": [
    "# This will run forever!\n",
    "# We forgot to increment temp_variable\n",
    "# Click the 'square' stop button to the left of the cell to stop.\n",
    "\n",
    "temp_variable = 0\n",
    "while temp_variable < 10:\n",
    "    print(temp_variable)"
   ]
  },
  {
   "cell_type": "markdown",
   "metadata": {},
   "source": [
    "Sometimes you do need a loop that runs until user tells you to stop.  For example, games often have an event loop that runs over and over reacting to user input.  In these cases, use a flag to stop execution of the loop."
   ]
  },
  {
   "cell_type": "code",
   "execution_count": 7,
   "metadata": {},
   "outputs": [
    {
     "name": "stdout",
     "output_type": "stream",
     "text": [
      "I'll repeat after you. Type 'q' if you want to quit.\n",
      "Hello.\n",
      "How are you?\n"
     ]
    }
   ],
   "source": [
    "print(\"I'll repeat after you. Type 'q' if you want to quit.\")\n",
    "\n",
    "program_running = True\n",
    "\n",
    "while program_running:\n",
    "    user_input = input(\"Quick.  Type something.\")\n",
    "\n",
    "    if (user_input == \"q\"):\n",
    "        program_running = False\n",
    "    else:\n",
    "        print(user_input)\n"
   ]
  },
  {
   "cell_type": "markdown",
   "metadata": {},
   "source": [
    "## Break statement\n",
    "\n",
    "Sometimes you need to \"break out\" of a `while` loop prematurely.  You can do this using a `break` statement."
   ]
  },
  {
   "cell_type": "code",
   "execution_count": 4,
   "metadata": {},
   "outputs": [
    {
     "name": "stdout",
     "output_type": "stream",
     "text": [
      "Printing even numbers from 10 to 50.\n",
      "10 12 14 16 18 20 22 24 26 28 30 \n",
      "Reached maximum ending number of 30.\n"
     ]
    }
   ],
   "source": [
    "beginning_number = 10\n",
    "ending_number = int(input(\"Enter a number\"))\n",
    "max_ending_number = 30\n",
    "\n",
    "print(f\"Printing even numbers from {beginning_number} to {ending_number}.\")\n",
    "\n",
    "current_number = beginning_number\n",
    "\n",
    "while current_number <= ending_number:\n",
    "\n",
    "    if current_number % 2 == 0:\n",
    "        print(current_number, end=\" \")\n",
    "\n",
    "    if current_number == max_ending_number:\n",
    "        print(f\"\\nReached maximum ending number of {max_ending_number}.\")\n",
    "        break\n",
    "\n",
    "    current_number +=  1"
   ]
  },
  {
   "cell_type": "markdown",
   "metadata": {},
   "source": [
    "## Continue statement\n",
    "\n",
    "Sometimes you want to skip the rest of the code in a `while` loop, but just that loop.  You still need to go through the rest of the data.  The `continue` keyword will skip back to the top of the `while` loop."
   ]
  },
  {
   "cell_type": "code",
   "execution_count": 17,
   "metadata": {},
   "outputs": [
    {
     "name": "stdout",
     "output_type": "stream",
     "text": [
      "Printing even numbers from 5 to 22, except numbers divisible by 10.\n",
      "6 8 12 14 16 18 22 "
     ]
    }
   ],
   "source": [
    "beginning_number = 5\n",
    "ending_number = 22\n",
    "\n",
    "print(f\"Printing even numbers from {beginning_number} to {ending_number}, except numbers divisible by 10.\")\n",
    "\n",
    "current_number = beginning_number - 1\n",
    "\n",
    "while current_number < ending_number:\n",
    "    current_number +=  1\n",
    "\n",
    "    if current_number % 10 == 0:\n",
    "            continue\n",
    "    \n",
    "    # (place holder for other code)\n",
    "    \n",
    "    if current_number % 2 == 0:\n",
    "        print(current_number, end=\" \")\n",
    "            "
   ]
  },
  {
   "cell_type": "markdown",
   "metadata": {},
   "source": [
    "## Assignments 5.4\n",
    "\n",
    "### Assignment 5.4.1\n",
    "\n",
    "Write a program that asks the user what flavor donuts do they want in their box of a dozen donuts. Write a loop that prompts the user to enter a series of donut flavors until the user enters \"done\". No more than a dozen donuts should be allowed.  Print each donut flavor.\n",
    "\n",
    "Example output:\n",
    "```text\n",
    "Welcome to Tasty Donut Shop.  What kind of donuts would you like today?\n",
    "Flavor for donut #1? chocolate\n",
    "You choose chocolate for donut #1.\n",
    "Flavor for donut #2? maple bar\n",
    "You choose maple bar for donut #2.\n",
    "\n",
    "...\n",
    "\n",
    "Flavor for donut #12? chocolate with sprinkles\n",
    "You choose chocolate with sprinkles for donut #12.\n",
    "\n",
    "Your box has 12 donuts.  Thank you for choosing Tasty Donut Shop today!\n",
    "```\n",
    "\n",
    "#### Grading\n",
    "| Item | Points Possible |\n",
    "|-|-|\n",
    "| Use `while` to keep prompting user for donut flavor. | 1 |\n",
    "| Every flavor chosen is repeated back to user. | 1 |\n",
    "| `while` loop terminates when 12 donuts are chosen or user types 'done'. | 2 |\n",
    "| Correct number of donuts in the box printed | 1 |"
   ]
  },
  {
   "cell_type": "code",
   "execution_count": null,
   "metadata": {},
   "outputs": [],
   "source": [
    "# Enter code for assignment here."
   ]
  },
  {
   "cell_type": "markdown",
   "metadata": {},
   "source": [
    "### Assignment 5.4.2\n",
    "\n",
    "Write a program that asks the user to pick a number from 1 to 100.  If the user guesses the number correctly, say \"Hoorah! You guessed it!\".  If the user doesn't guess the number correctly, tell them to pick a number that is higher or lower. Allow the user to give up by typing 'q'.\n",
    "\n",
    "You can either hard-code the number for the user to guess.\n",
    "\n",
    "```python\n",
    "number_to_guess = 65\n",
    "```\n",
    "\n",
    "Alternately, you can have the computer come up with a random number to guess.  To do this use the `random` module.  (We'll talk more about modules later.  For now, just know the random module has methods to create randomly generated numbers.)\n",
    "\n",
    "```python\n",
    "import random\n",
    "number_to_guess = random.randrange(1, 100)\n",
    "```\n",
    "\n",
    "\n",
    "Example output #1:\n",
    "\n",
    "```text\n",
    "What number am I thinking of? Pick a number between 1 and 100.\n",
    "Pick a number between 1 and 100. 50\n",
    "You choose 50.  Too low, try again.\n",
    "Pick a number between 1 and 100. 75\n",
    "You choose 75.  Too high, try again.\n",
    "Pick a number between 1 and 100. 120\n",
    "You choose 120.  Pick a number between 1 and 100.\n",
    "Pick a number between 1 and 100. 65\n",
    "You choose 65.  Hoorah! You guessed it!\n",
    "```\n",
    "\n",
    "Example output #2:\n",
    "\n",
    "```text\n",
    "What number am I thinking of? Pick a number between 1 and 100.\n",
    "Pick a number between 1 and 100. 50\n",
    "You choose 50.  Too low, try again.\n",
    "Pick a number between 1 and 100. q\n",
    "You chose to give up.  Better luck next time.\n",
    "```\n",
    "\n",
    "#### Grading\n",
    "\n",
    "| Item | Points Possible |\n",
    "|-|-|\n",
    "| Use a variable for beginning number (1) and ending number (100). | 1 |\n",
    "| Variable used for number to guess. | 1 |\n",
    "| Use `while` to keep prompting user for a number. | 1 |\n",
    "| Every number chosen is repeated back to user. | 1 |\n",
    "| `while` loop terminates when user correctly guesses the number or when user types 'q' | 2 |\n",
    "| Handle invalid input. (Numbers less than 1 and greater than 100) | 1 |\n",
    "| User is told to guess higher or lower. | 2 |"
   ]
  },
  {
   "cell_type": "code",
   "execution_count": null,
   "metadata": {},
   "outputs": [],
   "source": [
    "# Enter code for assignment here."
   ]
  }
 ],
 "metadata": {
  "kernelspec": {
   "display_name": "Python 3",
   "language": "python",
   "name": "python3"
  },
  "language_info": {
   "codemirror_mode": {
    "name": "ipython",
    "version": 3
   },
   "file_extension": ".py",
   "mimetype": "text/x-python",
   "name": "python",
   "nbconvert_exporter": "python",
   "pygments_lexer": "ipython3",
   "version": "3.11.5"
  },
  "orig_nbformat": 4
 },
 "nbformat": 4,
 "nbformat_minor": 2
}
