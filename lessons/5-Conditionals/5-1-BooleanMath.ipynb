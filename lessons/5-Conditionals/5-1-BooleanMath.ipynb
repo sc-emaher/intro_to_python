{
 "cells": [
  {
   "cell_type": "markdown",
   "metadata": {},
   "source": [
    "# 5.1 - Boolean Math\n",
    "\n",
    "George Boole wrote two books that are the foundations of modern programming languages. _The Mathematical Analysis of Logic_ was published in 1847 and _The Laws of Thought_ in 1854.  Unlike previous attempts at logical analysis, Boole's method can be applied to an unlimited number of arguments.  This was revolutionary and the foundation of logical operators that we use to control the flows of programs today.\n",
    "\n",
    "These logical rules bear his name: Boolean math.\n",
    "\n",
    "Sources: [George Bool](https://plato.stanford.edu/entries/boole/), [Byju's Boolean Algebra](https://byjus.com/maths/boolean-algebra/).\n",
    "\n",
    "## True and False\n",
    "\n",
    "Boolean variables can be in one of two states: `True` or `False`.  Boolean operators that we will cover in the next section only work with types and expression that produce a boolean result (i.e. `True` or `False`).  We'll cover boolean operators in the next section. (`if`, `if-else`, `if-elif-else`, `not`, `and`, `or`)\n",
    "\n",
    "When talking about Boolean logic, you'll often see:\n",
    "\n",
    "- `True` represented as  `T` or `1`\n",
    "- `False` represented as `F` or `0`\n",
    "\n",
    "## Boolean Logic\n",
    "\n",
    "| Expression | Result | \n",
    "|------------|--------|\n",
    "| `True`     | `True` | \n",
    "| `False`    | `False`| \n",
    "| `not True`     | `False` | \n",
    "| `not False`    | `True`| \n",
    "\n",
    "### Or Expressions\n",
    "\n",
    "| Expression | Result | \n",
    "|------------|--------|\n",
    "| `False or False` | `False` | \n",
    "| `True or False` | `True` | \n",
    "| `False or True` | `True` | \n",
    "| `True or True` | `True` |\n",
    "\n",
    "### And Expressions\n",
    "\n",
    "| Expression | Result | \n",
    "|------------|--------|\n",
    "| `False and False` | `False` | \n",
    "| `True and False` | `False` | \n",
    "| `False and True` | `False` | \n",
    "| `True or True` | `True` |\n",
    "\n",
    "### Applying order to Boolean Logic\n",
    "\n",
    "What about more complicated instructions?\n",
    "\n",
    "| Expression | Result | \n",
    "|------------|--------|\n",
    "| `False or False or True` | `True` | \n",
    "| `False and False and True` | `False` |\n",
    "| `not False or False and True` | ??? | \n",
    "\n",
    "Python uses the following priority when evaluating expressions:\n",
    "\n",
    "1. `or`\n",
    "1. `and`\n",
    "1. `not` x\n",
    "\n",
    "Important things to note:\n",
    "\n",
    "1. `not` is a lower priority than `or`, `and`, and other boolean operators.  \n",
    "    1. For example, `not a == b` evaluates to `not (a == b)`.\n",
    "1. `or` is a higher precedence than `and`.  In a boolean expression with more than one boolean operator, the `or` clauses are evaluated first.\n",
    "    1. For example, `a and b or c` evaluates to `(a and b) or c`\n",
    "1. Python uses short-circuiting when evaluating a boolean expression. \n",
    "    1. Take the expression `a or b`.  If `a` is `True`, then Python will only evaluate `a` because `True` or'ed with anything is `True`.\n",
    "    1. Take the expression `a and b`.  If `a` is `False`, then Python will only evaluate `a` because `False` and'ed with anything is `False` *and* this is a simple expression with no `or` operators to take precedence.  \n",
    "\n",
    "Source: [Python Docs, Boolean Operations](https://docs.python.org/3/library/stdtypes.html#boolean-operations-and-or-not)"
   ]
  },
  {
   "cell_type": "code",
   "execution_count": 3,
   "metadata": {},
   "outputs": [
    {
     "name": "stdout",
     "output_type": "stream",
     "text": [
      "True\n"
     ]
    }
   ],
   "source": [
    "# Let's see how Python evaluates a complicated expression\n",
    "print(False and False or True)"
   ]
  },
  {
   "cell_type": "code",
   "execution_count": 4,
   "metadata": {},
   "outputs": [
    {
     "name": "stdout",
     "output_type": "stream",
     "text": [
      "False\n"
     ]
    }
   ],
   "source": [
    "# But what if I change the order?\n",
    "print(False or False and True)"
   ]
  },
  {
   "cell_type": "markdown",
   "metadata": {},
   "source": [
    "Just like in regular arithematics, parenthesis can be used to clarify an expression."
   ]
  },
  {
   "cell_type": "markdown",
   "metadata": {},
   "source": [
    "| Expression | Result |\n",
    "|------------|--------|\n",
    "| `(not (False or True))and True` | False |\n",
    "|`((not False) or True) and True` | True |\n",
    "|`(not False) or (True and True)` | True |\n",
    "|`not (False or (True and True))` | False |"
   ]
  },
  {
   "cell_type": "code",
   "execution_count": 1,
   "metadata": {},
   "outputs": [
    {
     "name": "stdout",
     "output_type": "stream",
     "text": [
      "True\n",
      "False\n",
      "True\n",
      "True\n",
      "False\n"
     ]
    }
   ],
   "source": [
    "print (not False or True and True)\n",
    "print ((not (False or True)) and True)\n",
    "print((not False or True) and True)\n",
    "print((not False) or (True and False))\n",
    "print (not (False or (True and True)))"
   ]
  },
  {
   "cell_type": "markdown",
   "metadata": {},
   "source": [
    "## Assignment 5.1\n",
    "\n",
    "Evaluate the following expressions by hand.\n",
    "\n",
    "1. `not (True or True)`\n",
    "1. `(not True) and True`\n",
    "1. `not (True and True)`\n",
    "1. `(True and False) or (True and True)`\n",
    "1. `not ((True or False) or (True and True))`\n",
    "1. `(True and (True or (True or False)))`\n",
    "1. `0 or 1`\n",
    "1. ` 0 and 1`\n",
    " \n",
    "Challenge:\n",
    "1. `0 and 0 or 1`\n",
    "1. `1 or 0 and 1`\n",
    "\n",
    "### Grading\n",
    ".5 for each expression"
   ]
  },
  {
   "cell_type": "raw",
   "metadata": {},
   "source": [
    "Assignment 5.1 Results:\n",
    "1.\n",
    "2.\n",
    "3.\n",
    "4.\n",
    "5. \n",
    "6. \n",
    "7.\n",
    "8."
   ]
  }
 ],
 "metadata": {
  "kernelspec": {
   "display_name": "Python 3",
   "language": "python",
   "name": "python3"
  },
  "language_info": {
   "codemirror_mode": {
    "name": "ipython",
    "version": 3
   },
   "file_extension": ".py",
   "mimetype": "text/x-python",
   "name": "python",
   "nbconvert_exporter": "python",
   "pygments_lexer": "ipython3",
   "version": "3.11.6"
  },
  "orig_nbformat": 4
 },
 "nbformat": 4,
 "nbformat_minor": 2
}
