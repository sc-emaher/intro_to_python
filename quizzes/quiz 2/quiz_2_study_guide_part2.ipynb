{
 "cells": [
  {
   "cell_type": "markdown",
   "metadata": {},
   "source": [
    "# Quiz #2 Study Guide\n",
    "\n",
    "## Units 4 & 5\n",
    "\n",
    "### Interpreting Code\n",
    "Read the code and answer the questions after."
   ]
  },
  {
   "cell_type": "markdown",
   "metadata": {},
   "source": []
  },
  {
   "cell_type": "markdown",
   "metadata": {},
   "source": [
    "#### Indecisive"
   ]
  },
  {
   "cell_type": "code",
   "execution_count": null,
   "metadata": {},
   "outputs": [],
   "source": [
    "user_choice = float(input(\"What's your favorite number?\"))\n",
    "\n",
    "response = None\n",
    "\n",
    "if user_choice % 2 == 0:\n",
    "    response = \"I like even numbers, too.\"\n",
    "elif user_choice**2 > 1000:\n",
    "    response = f\"{user_choice} squared is a big number.\"\n",
    "elif user_choice // 1 > 0:\n",
    "    response = \"You chose a number with a decimal component.\"\n",
    "elif user_choice == 12:\n",
    "    response = \"Go Seahawks!!!\"\n",
    "else:\n",
    "    response = \"Everyone is entitled to their own opinion.\"\n",
    "\n",
    "print(response)                   "
   ]
  },
  {
   "cell_type": "markdown",
   "metadata": {},
   "source": [
    "What is printed if user enters 123?"
   ]
  },
  {
   "cell_type": "raw",
   "metadata": {},
   "source": [
    "\n"
   ]
  },
  {
   "cell_type": "markdown",
   "metadata": {},
   "source": [
    "What is printed if the user enters 1.2?"
   ]
  },
  {
   "cell_type": "raw",
   "metadata": {},
   "source": [
    "\n",
    "\n"
   ]
  },
  {
   "cell_type": "markdown",
   "metadata": {},
   "source": [
    "What condition will never be executed?"
   ]
  },
  {
   "cell_type": "raw",
   "metadata": {},
   "source": [
    "\n",
    "\n"
   ]
  },
  {
   "cell_type": "markdown",
   "metadata": {},
   "source": [
    "#### Ordering pizza"
   ]
  },
  {
   "cell_type": "code",
   "execution_count": null,
   "metadata": {},
   "outputs": [],
   "source": [
    "program_running = True\n",
    "has_vegetables = False\n",
    "\n",
    "print(\"Welcome to the Pizza Shop!\\nPlease choose the toppings for your large pizza.\")\n",
    "print(\"Category\\t| Item\")\n",
    "print( \"-\" * 25)\n",
    "\n",
    "while (program_running):\n",
    "\n",
    "    user_choice = input(\"What topping would you like? ('q' to quit)\")\n",
    "\n",
    "    if user_choice.lower() ==  'q' :\n",
    "        program_running = False\n",
    "    elif user_choice.lower() == \"quit\":\n",
    "        program_running = False\n",
    "    else:\n",
    "        match (user_choice.lower()):\n",
    "            case \"pepperoni\" | \"italian sausage\" | \"Canadian bacon\":\n",
    "                print(f\"Meat\\t\\t| {user_choice.title()}\")\n",
    "            case \"cheese\":\n",
    "                print(f\"Dairy\\t\\t| {user_choice.title()}\")\n",
    "            case \"peppers\" | \"onions\" | \"olives\" | \"mushrooms\":\n",
    "                print(f\"Vegetables\\t| {user_choice.title()}\")\n",
    "                has_vegetables = True\n",
    "            case \"pineapple\":\n",
    "                print(f\"Fruit\\t\\t| {user_choice.title()}\")\n",
    "            case _:\n",
    "                print(f\"Unknown\\t\\t| Sorry, {user_choice.title()} not available.\")\n",
    "\n",
    "print(\"\")\n",
    "\n",
    "if not has_vegetables:\n",
    "    print(\"Your mother will be disappointed -- no veggies.\")\n",
    "\n",
    "print(\"Ordering complete.\")"
   ]
  },
  {
   "cell_type": "markdown",
   "metadata": {},
   "source": [
    "What is printed if I order a cheese pizza?"
   ]
  },
  {
   "cell_type": "raw",
   "metadata": {},
   "source": [
    "Welcome to the Pizza Shop!\n",
    "Please choose the toppings for your large pizza.\n",
    "\n",
    "Category    | Item\n",
    "-------------------------\n",
    "\n",
    "\n",
    "\n",
    "\n",
    "Ordering complete."
   ]
  },
  {
   "cell_type": "markdown",
   "metadata": {},
   "source": [
    "What is printed if I order a hawaiian pizza?"
   ]
  },
  {
   "cell_type": "raw",
   "metadata": {},
   "source": [
    "Welcome to the Pizza Shop!\n",
    "Please choose the toppings for your large pizza.\n",
    "\n",
    "Category    | Item\n",
    "-------------------------\n",
    "\n",
    "\n",
    "\n",
    "\n",
    "Ordering complete."
   ]
  },
  {
   "cell_type": "markdown",
   "metadata": {},
   "source": [
    "How can I combine the `if` and `elif` statements into a single `if`?"
   ]
  },
  {
   "cell_type": "raw",
   "metadata": {},
   "source": [
    "\n",
    "\n",
    "\n",
    "\n"
   ]
  },
  {
   "cell_type": "markdown",
   "metadata": {},
   "source": [
    "#### Counting backwards"
   ]
  },
  {
   "cell_type": "code",
   "execution_count": null,
   "metadata": {},
   "outputs": [],
   "source": [
    "number_of_loops = int(input(\"Enter the number of times the loop should execute.\"))\n",
    "\n",
    "iterations_left = number_of_loops\n",
    "\n",
    "while iterations_left >= 0:\n",
    "    if iterations_left == 22:\n",
    "        print(f\"{iterations_left} is my favorite number!\")\n",
    "        continue\n",
    "    if iterations_left == 44:\n",
    "        break\n",
    "    elif iterations_left % 2 == 0:\n",
    "        print(f\"{iterations_left} (even)\", end=\", \")\n",
    "    elif iterations_left % 2 == 1:\n",
    "        print(f\"{iterations_left} (odd)\", end=\", \")\n",
    "\n",
    "    iterations_left -= 1\n"
   ]
  },
  {
   "cell_type": "markdown",
   "metadata": {},
   "source": [
    "What is printed if user enters `5`?"
   ]
  },
  {
   "cell_type": "raw",
   "metadata": {},
   "source": [
    "\n",
    "\n",
    "\n"
   ]
  },
  {
   "cell_type": "markdown",
   "metadata": {},
   "source": [
    "What happens if the user enters `22`?"
   ]
  },
  {
   "cell_type": "raw",
   "metadata": {},
   "source": [
    "\n",
    "\n"
   ]
  },
  {
   "cell_type": "markdown",
   "metadata": {},
   "source": [
    "What happens if the user enters `44`?"
   ]
  },
  {
   "cell_type": "raw",
   "metadata": {},
   "source": [
    "\n",
    "\n"
   ]
  },
  {
   "cell_type": "markdown",
   "metadata": {},
   "source": [
    "The `while` loop executes `number_of_loops` + 1 times.  How do you fix the boolean condition in the `while` loop?"
   ]
  },
  {
   "cell_type": "raw",
   "metadata": {},
   "source": [
    "\n",
    "\n",
    "\n"
   ]
  }
 ],
 "metadata": {
  "kernelspec": {
   "display_name": "Python 3",
   "language": "python",
   "name": "python3"
  },
  "language_info": {
   "codemirror_mode": {
    "name": "ipython",
    "version": 3
   },
   "file_extension": ".py",
   "mimetype": "text/x-python",
   "name": "python",
   "nbconvert_exporter": "python",
   "pygments_lexer": "ipython3",
   "version": "3.11.5"
  }
 },
 "nbformat": 4,
 "nbformat_minor": 2
}
